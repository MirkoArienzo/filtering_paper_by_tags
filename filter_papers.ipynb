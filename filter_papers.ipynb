{
 "cells": [
  {
   "cell_type": "code",
   "execution_count": 2,
   "id": "4041891c",
   "metadata": {},
   "outputs": [
    {
     "name": "stderr",
     "output_type": "stream",
     "text": [
      "c:\\conda\\Lib\\site-packages\\tqdm\\auto.py:21: TqdmWarning: IProgress not found. Please update jupyter and ipywidgets. See https://ipywidgets.readthedocs.io/en/stable/user_install.html\n",
      "  from .autonotebook import tqdm as notebook_tqdm\n"
     ]
    }
   ],
   "source": [
    "from dataset_utils import *"
   ]
  },
  {
   "cell_type": "markdown",
   "id": "cbd93c21",
   "metadata": {},
   "source": [
    "Download papers from list given in dataset_utils"
   ]
  },
  {
   "cell_type": "code",
   "execution_count": 3,
   "id": "1abfa53b",
   "metadata": {},
   "outputs": [],
   "source": [
    "download_from_list(list_papers, folder_name=\"test_pdfs\")"
   ]
  },
  {
   "cell_type": "markdown",
   "id": "5d7746b7",
   "metadata": {},
   "source": [
    "Extract text from first page of each PDF."
   ]
  },
  {
   "cell_type": "code",
   "execution_count": 7,
   "id": "4e1fdd69",
   "metadata": {},
   "outputs": [
    {
     "data": {
      "text/plain": [
       "'1006.4395'"
      ]
     },
     "execution_count": 7,
     "metadata": {},
     "output_type": "execute_result"
    }
   ],
   "source": [
    "pdf_data = extract_text_from_pdfs(\"test_pdfs\")\n",
    "pdf_data[0][\"arx_number\"]"
   ]
  },
  {
   "cell_type": "markdown",
   "id": "865cb0a0",
   "metadata": {},
   "source": [
    "Apply tag to each PDF and save as a CSV containing the arxiv ID, the tags, and the score associated with each tag"
   ]
  },
  {
   "cell_type": "code",
   "execution_count": 8,
   "id": "28ee2bbc",
   "metadata": {},
   "outputs": [
    {
     "name": "stdout",
     "output_type": "stream",
     "text": [
      "WARNING:tensorflow:From c:\\conda\\Lib\\site-packages\\tf_keras\\src\\losses.py:2976: The name tf.losses.sparse_softmax_cross_entropy is deprecated. Please use tf.compat.v1.losses.sparse_softmax_cross_entropy instead.\n",
      "\n"
     ]
    },
    {
     "name": "stderr",
     "output_type": "stream",
     "text": [
      "Device set to use cpu\n"
     ]
    }
   ],
   "source": [
    "classify_papers(pdf_data, labels=labels, threshold=0.3, highest_k_score=3, csv_name=\"paper_tags_test.csv\")"
   ]
  },
  {
   "cell_type": "markdown",
   "id": "73c9c7ec",
   "metadata": {},
   "source": [
    "Filter the papers just downloaded and classified based on the tags.\n",
    "In the test list provided, about half of the papers are abount \"randomized benchmarking\"."
   ]
  },
  {
   "cell_type": "code",
   "execution_count": 11,
   "id": "c9f6a1dc",
   "metadata": {},
   "outputs": [
    {
     "name": "stdout",
     "output_type": "stream",
     "text": [
      "1308.2928.pdf\n",
      "2212.06181.pdf\n",
      "2302.13853.pdf\n",
      "2312.15836.pdf\n",
      "2407.09942.pdf\n",
      "2410.08683.pdf\n",
      "2412.18578.pdf\n",
      "2502.00154.pdf\n"
     ]
    }
   ],
   "source": [
    "filter_from_csv(\"randomized benchmarking\", csv_name=\"paper_tags.csv\", source_folder=\"test_pdfs\", threshold=0.75)"
   ]
  },
  {
   "cell_type": "code",
   "execution_count": null,
   "id": "d47159f5",
   "metadata": {},
   "outputs": [],
   "source": []
  }
 ],
 "metadata": {
  "kernelspec": {
   "display_name": "base",
   "language": "python",
   "name": "python3"
  },
  "language_info": {
   "codemirror_mode": {
    "name": "ipython",
    "version": 3
   },
   "file_extension": ".py",
   "mimetype": "text/x-python",
   "name": "python",
   "nbconvert_exporter": "python",
   "pygments_lexer": "ipython3",
   "version": "3.12.3"
  }
 },
 "nbformat": 4,
 "nbformat_minor": 5
}
